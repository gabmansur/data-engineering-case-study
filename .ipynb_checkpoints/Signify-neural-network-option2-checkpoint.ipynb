{
 "cells": [
  {
   "cell_type": "markdown",
   "metadata": {},
   "source": [
    "## Neural Network for Feeding Classification - Option 1\n",
    "\n",
    "Sources: \n",
    "* https://www.dlology.com/blog/transfer-learning-with-efficientnet/"
   ]
  },
  {
   "cell_type": "code",
   "execution_count": null,
   "metadata": {},
   "outputs": [],
   "source": [
    "#Import packages"
   ]
  },
  {
   "cell_type": "markdown",
   "metadata": {},
   "source": [
    "### Base network"
   ]
  },
  {
   "cell_type": "code",
   "execution_count": null,
   "metadata": {},
   "outputs": [],
   "source": [
    "# Options: EfficientNetB0, EfficientNetB1, EfficientNetB2, EfficientNetB3\n",
    "# Higher the number, the more complex the model is.\n",
    "from efficientnet import EfficientNetB0 as Net\n",
    "from efficientnet import center_crop_and_resize, preprocess_input\n",
    "\n",
    "# This is our base model, pre-trained on imagenet\n",
    "conv_base = Net(weights=\"imagenet\", include_top=False, input_shape=input_shape)"
   ]
  },
  {
   "cell_type": "markdown",
   "metadata": {},
   "source": [
    "### Our own layers"
   ]
  },
  {
   "cell_type": "code",
   "execution_count": null,
   "metadata": {},
   "outputs": [],
   "source": [
    "from tensorflow.keras import models\n",
    "from tensorflow.keras import layers\n",
    "\n",
    "# Now let's add some layers on top of that\n",
    "dropout_rate = 0.2\n",
    "model = models.Sequential()\n",
    "model.add(conv_base)\n",
    "model.add(layers.GlobalMaxPooling2D(name=\"gap\"))\n",
    "# model.add(layers.Flatten(name=\"flatten\"))\n",
    "if dropout_rate > 0:\n",
    "    model.add(layers.Dropout(dropout_rate, name=\"dropout_out\"))\n",
    "# model.add(layers.Dense(256, activation='relu', name=\"fc1\"))"
   ]
  },
  {
   "cell_type": "markdown",
   "metadata": {},
   "source": [
    "### Our softmax layer (will depend on number of classes)"
   ]
  },
  {
   "cell_type": "code",
   "execution_count": null,
   "metadata": {},
   "outputs": [],
   "source": [
    "#### HERE WE'LL HAVE TO ADD NUMBER OF CLASSES ####\n",
    "#### START MODIFYING HERE\n",
    "\n",
    "model.add(layers.Dense(\"SUBSTITUTE NUMBER OF CLASSES HERE\", activation=\"softmax\", name=\"fc_out\"))\n",
    "\n",
    "\n",
    "##### END MODIFYING HERE"
   ]
  },
  {
   "cell_type": "code",
   "execution_count": null,
   "metadata": {},
   "outputs": [],
   "source": [
    "# Freeze pre-trained layers\n",
    "conv_base.trainable = False"
   ]
  },
  {
   "cell_type": "markdown",
   "metadata": {},
   "source": [
    "### Our images\n",
    "\n",
    "Our training directory is _train_dir_ and validation folder is _validation_dir_ in this code.\n",
    "\n",
    "Please create folders inside where the name of each folder is the class.\n",
    "\n",
    "We also need to define the target size (will depend on the input size of the network, need to check) and batch size."
   ]
  },
  {
   "cell_type": "code",
   "execution_count": null,
   "metadata": {},
   "outputs": [],
   "source": [
    "from tensorflow.keras.preprocessing.image import ImageDataGenerator\n",
    "\n",
    "train_datagen = ImageDataGenerator(rescale=1.0 / 255)\n",
    "test_datagen = ImageDataGenerator(rescale=1.0 / 255)\n",
    "\n",
    "train_generator = train_datagen.flow_from_directory(\n",
    "    # This is the target directory\n",
    "    train_dir,\n",
    "    # All images will be resized to target height and width.\n",
    "    target_size=(height, width),\n",
    "    batch_size=batch_size,\n",
    "    # Since we use categorical_crossentropy loss, we need categorical labels\n",
    "    class_mode=\"categorical\",\n",
    ")\n",
    "\n",
    "validation_generator = test_datagen.flow_from_directory(\n",
    "    validation_dir,\n",
    "    target_size=(height, width),\n",
    "    batch_size=batch_size,\n",
    "    class_mode=\"categorical\",\n",
    ")"
   ]
  },
  {
   "cell_type": "markdown",
   "metadata": {},
   "source": [
    "### The model"
   ]
  },
  {
   "cell_type": "code",
   "execution_count": null,
   "metadata": {},
   "outputs": [],
   "source": [
    "model.compile(\n",
    "    loss=\"categorical_crossentropy\",\n",
    "    optimizer=optimizers.RMSprop(lr=2e-5),\n",
    "    metrics=[\"acc\"],\n",
    ")\n",
    "\n",
    "history = model.fit_generator(\n",
    "    train_generator,\n",
    "    steps_per_epoch=NUM_TRAIN // batch_size,\n",
    "    epochs=epochs,\n",
    "    validation_data=validation_generator,\n",
    "    validation_steps=NUM_TEST // batch_size,\n",
    "    verbose=1,\n",
    "    use_multiprocessing=True,\n",
    "    workers=4,\n",
    ")"
   ]
  }
 ],
 "metadata": {
  "kernelspec": {
   "display_name": "Python 3",
   "language": "python",
   "name": "python3"
  },
  "language_info": {
   "codemirror_mode": {
    "name": "ipython",
    "version": 3
   },
   "file_extension": ".py",
   "mimetype": "text/x-python",
   "name": "python",
   "nbconvert_exporter": "python",
   "pygments_lexer": "ipython3",
   "version": "3.7.4"
  }
 },
 "nbformat": 4,
 "nbformat_minor": 4
}
