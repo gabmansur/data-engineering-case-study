{
 "cells": [
  {
   "cell_type": "code",
   "execution_count": null,
   "metadata": {},
   "outputs": [],
   "source": [
    "import cv2 as cv\n",
    "import numpy as np\n",
    "\n",
    "# The video feed is read in as a VideoCapture object\n",
    "cap = cv.VideoCapture(\"sample.mp4\")\n",
    "# ret = a boolean return value from getting the frame, first_frame = the first frame in the entire video sequence\n",
    "ret, first_frame = cap.read()\n",
    "# Converts frame to grayscale because we only need the luminance channel for detecting edges - less computationally expensive\n",
    "prev_gray = cv.cvtColor(first_frame, cv.COLOR_BGR2GRAY)\n",
    "# Creates an image filled with zero intensities with the same dimensions as the frame\n",
    "mask = np.zeros_like(first_frame)\n",
    "# Sets image saturation to maximum\n",
    "mask[..., 1] = 255\n",
    "\n",
    "while(cap.isOpened()):\n",
    "    # ret = a boolean return value from getting the frame, frame = the current frame being projected in the video\n",
    "    ret, frame = cap.read()\n",
    "    # Opens a new window and displays the input frame\n",
    "    cv.imshow(\"input\", frame)\n",
    "    # Converts each frame to grayscale - we previously only converted the first frame to grayscale\n",
    "    gray = cv.cvtColor(frame, cv.COLOR_BGR2GRAY)\n",
    "    # Calculates dense optical flow by Farneback method\n",
    "    # https://docs.opencv.org/3.0-beta/modules/video/doc/motion_analysis_and_object_tracking.html#calcopticalflowfarneback\n",
    "    flow = cv.calcOpticalFlowFarneback(prev_gray, gray, None, 0.5, 3, 15, 3, 5, 1.2, 0)\n",
    "    # Computes the magnitude and angle of the 2D vectors\n",
    "    magnitude, angle = cv.cartToPolar(flow[..., 0], flow[..., 1])\n",
    "    # Sets image hue according to the optical flow direction\n",
    "    mask[..., 0] = angle * 180 / np.pi / 2\n",
    "    # Sets image value according to the optical flow magnitude (normalized)\n",
    "    mask[..., 2] = cv.normalize(magnitude, None, 0, 255, cv.NORM_MINMAX)\n",
    "    # Converts HSV to RGB (BGR) color representation\n",
    "    rgb = cv.cvtColor(mask, cv.COLOR_HSV2BGR)\n",
    "    # Opens a new window and displays the output frame\n",
    "    cv.imshow(\"dense optical flow\", rgb)\n",
    "    # Updates previous frame\n",
    "    prev_gray = gray\n",
    "    # Frames are read by intervals of 1 millisecond. The programs breaks out of the while loop when the user presses the 'q' key\n",
    "    if cv.waitKey(1) & 0xFF == ord('q'):\n",
    "        break\n",
    "# The following frees up resources and closes all windows\n",
    "cap.release()\n",
    "cv.destroyAllWindows()"
   ]
  }
 ],
 "metadata": {
  "kernelspec": {
   "display_name": "Python 3",
   "language": "python",
   "name": "python3"
  },
  "language_info": {
   "codemirror_mode": {
    "name": "ipython",
    "version": 3
   },
   "file_extension": ".py",
   "mimetype": "text/x-python",
   "name": "python",
   "nbconvert_exporter": "python",
   "pygments_lexer": "ipython3",
   "version": "3.7.3"
  }
 },
 "nbformat": 4,
 "nbformat_minor": 4
}
